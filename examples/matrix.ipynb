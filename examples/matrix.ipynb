{
 "cells": [
  {
   "cell_type": "code",
   "execution_count": 38,
   "metadata": {
    "vscode": {
     "languageId": "cpp"
    }
   },
   "outputs": [],
   "source": [
    "#include <iostream>\n",
    "#include <cstdlib>\n",
    "\n",
    "using std::cout;\n",
    "\n",
    "#define DIM 3"
   ]
  },
  {
   "attachments": {},
   "cell_type": "markdown",
   "metadata": {},
   "source": [
    "### Matrix Definition"
   ]
  },
  {
   "cell_type": "code",
   "execution_count": 19,
   "metadata": {
    "vscode": {
     "languageId": "cpp"
    }
   },
   "outputs": [],
   "source": [
    "double m1[DIM][DIM] = {{1, 2, 3}, {4, 5, 6}, {7, 8, 9}};\n",
    "/// Initialize matrix with 0\n",
    "for (size_t i = 0; i < DIM; i++) {\n",
    "    for (size_t j = 0; j < DIM; j++) {\n",
    "        m1[i][j] = 0;\n",
    "    }\n",
    "}"
   ]
  },
  {
   "cell_type": "code",
   "execution_count": 39,
   "metadata": {
    "vscode": {
     "languageId": "cpp"
    }
   },
   "outputs": [],
   "source": [
    "struct Matrix {\n",
    "    size_t dimension;\n",
    "    double *start;\n",
    "\n",
    "    Matrix(size_t dim) {\n",
    "        dimension=dim;\n",
    "        start = (double *) malloc(dimension * dimension * sizeof(double));\n",
    "    }\n",
    "\n",
    "    // void identity() {\n",
    "    //     for (size_t i = 0; i < DIM; i++) {\n",
    "    //         for (size_t j = 0; j < DIM; j++) {\n",
    "    //             m[i][j] = i == j ? 1 : 0;\n",
    "    //         }\n",
    "    //     }\n",
    "    // };\n",
    "};"
   ]
  },
  {
   "cell_type": "code",
   "execution_count": null,
   "metadata": {
    "vscode": {
     "languageId": "cpp"
    }
   },
   "outputs": [],
   "source": [
    "double getElement(Matrix &m, )"
   ]
  },
  {
   "attachments": {},
   "cell_type": "markdown",
   "metadata": {},
   "source": [
    "#### Pretty print for matrices"
   ]
  },
  {
   "cell_type": "code",
   "execution_count": 20,
   "metadata": {
    "vscode": {
     "languageId": "cpp"
    }
   },
   "outputs": [],
   "source": [
    "void pretty_print(double m[DIM][DIM]) {\n",
    "    for (size_t i = 0; i < DIM; i++) {\n",
    "        for (size_t j = 0; j < DIM; j++) {\n",
    "            cout << m[i][j] << \" \";\n",
    "        }\n",
    "        cout << std::endl;\n",
    "    }\n",
    "}"
   ]
  },
  {
   "attachments": {},
   "cell_type": "markdown",
   "metadata": {},
   "source": [
    "#### Matrix operations"
   ]
  },
  {
   "cell_type": "code",
   "execution_count": 28,
   "metadata": {
    "vscode": {
     "languageId": "cpp"
    }
   },
   "outputs": [],
   "source": [
    "void identity(double m[DIM][DIM]) {\n",
    "    for (size_t i = 0; i < DIM; i++) {\n",
    "        for (size_t j = 0; j < DIM; j++) {\n",
    "            m[i][j] = i == j ? 1 : 0;\n",
    "        }\n",
    "    }\n",
    "}"
   ]
  },
  {
   "cell_type": "code",
   "execution_count": 34,
   "metadata": {
    "vscode": {
     "languageId": "cpp"
    }
   },
   "outputs": [],
   "source": []
  },
  {
   "cell_type": "code",
   "execution_count": null,
   "metadata": {
    "vscode": {
     "languageId": "cpp"
    }
   },
   "outputs": [],
   "source": []
  }
 ],
 "metadata": {
  "kernelspec": {
   "display_name": "C++17",
   "language": "C++17",
   "name": "xcpp17"
  },
  "language_info": {
   "codemirror_mode": "text/x-c++src",
   "file_extension": ".cpp",
   "mimetype": "text/x-c++src",
   "name": "c++",
   "version": "17"
  },
  "orig_nbformat": 4
 },
 "nbformat": 4,
 "nbformat_minor": 2
}
