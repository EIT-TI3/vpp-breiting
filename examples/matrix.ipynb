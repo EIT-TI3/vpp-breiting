{
 "cells": [
  {
   "cell_type": "code",
   "execution_count": 132,
   "metadata": {
    "vscode": {
     "languageId": "cpp"
    }
   },
   "outputs": [],
   "source": [
    "#include <iostream>\n",
    "#include <cstdlib>\n",
    "\n",
    "using std::cout;\n",
    "using std::ostream;\n",
    "\n",
    "#define DIM 3"
   ]
  },
  {
   "attachments": {},
   "cell_type": "markdown",
   "metadata": {},
   "source": [
    "### Matrix Definition"
   ]
  },
  {
   "cell_type": "code",
   "execution_count": 139,
   "metadata": {
    "vscode": {
     "languageId": "cpp"
    }
   },
   "outputs": [],
   "source": [
    "struct Matrix {\n",
    "\n",
    "private:\n",
    "    size_t dimension;\n",
    "    double *start;\n",
    "\n",
    "public:\n",
    "    explicit Matrix(size_t dim=3) {\n",
    "        dimension=dim;\n",
    "        start = new double[dimension*dimension];\n",
    "    }\n",
    "    ~Matrix() {\n",
    "        delete[] start;\n",
    "        start = nullptr;\n",
    "    }\n",
    "\n",
    "    double operator()(size_t z, size_t s) const {\n",
    "        return *(start+z*dimension+s);\n",
    "    }\n",
    "\n",
    "    double &operator()(size_t z, size_t s) {\n",
    "        return *(start+z*dimension+s);\n",
    "    }\n",
    "\n",
    "    void identity() {\n",
    "        for (size_t i = 0; i < this -> dimension; i++) {\n",
    "            for (size_t j = 0; j < this -> dimension; j++) {\n",
    "                *(this->start+i*(this)->dimension+j) = i == j ? 1 : 0;\n",
    "            }\n",
    "        }\n",
    "    }\n",
    "\n",
    "    double getElement(size_t z, size_t s) const {\n",
    "        return *(this->start+z*(this)->dimension+s);\n",
    "    }\n",
    "\n",
    "    void setElement(size_t z, size_t s, double value) {\n",
    "        if (z >= this->dimension || s >= this->dimension) {\n",
    "            cout << \"Index out of bounds\" << std::endl;\n",
    "        } else {\n",
    "            *(this->start+z*(this)->dimension+s) = value;\n",
    "        }\n",
    "    }\n",
    "\n",
    "    void output(std::ostream &o) const {\n",
    "        for (size_t i = 0; i < this->dimension; i++) {\n",
    "            for (size_t j = 0; j < this->dimension; j++) {\n",
    "                o << this->getElement(i, j) << \" \";\n",
    "            }\n",
    "            o << std::endl;\n",
    "        }\n",
    "    }\n",
    "\n",
    "    size_t getDimension() const {\n",
    "        return this->dimension;\n",
    "    }\n",
    "};"
   ]
  },
  {
   "cell_type": "code",
   "execution_count": 134,
   "metadata": {
    "vscode": {
     "languageId": "cpp"
    }
   },
   "outputs": [],
   "source": [
    "// std::ostream &operator<<(std::ostream &o, const Matrix &m) {\n",
    "//     m.out(o);\n",
    "//     return o;\n",
    "// }"
   ]
  },
  {
   "cell_type": "code",
   "execution_count": 141,
   "metadata": {
    "vscode": {
     "languageId": "cpp"
    }
   },
   "outputs": [],
   "source": [
    "Matrix a;"
   ]
  },
  {
   "cell_type": "code",
   "execution_count": 143,
   "metadata": {
    "vscode": {
     "languageId": "cpp"
    }
   },
   "outputs": [
    {
     "name": "stdout",
     "output_type": "stream",
     "text": [
      "1 0 0 \n",
      "0 1 0 \n",
      "0 0 1 \n",
      "1\n"
     ]
    }
   ],
   "source": [
    "a.identity();\n",
    "a.output(cout);\n",
    "cout << a(1,1) << std::endl;"
   ]
  },
  {
   "cell_type": "code",
   "execution_count": null,
   "metadata": {
    "vscode": {
     "languageId": "cpp"
    }
   },
   "outputs": [],
   "source": []
  }
 ],
 "metadata": {
  "kernelspec": {
   "display_name": "C++17",
   "language": "C++17",
   "name": "xcpp17"
  },
  "language_info": {
   "codemirror_mode": "text/x-c++src",
   "file_extension": ".cpp",
   "mimetype": "text/x-c++src",
   "name": "c++",
   "version": "17"
  },
  "orig_nbformat": 4
 },
 "nbformat": 4,
 "nbformat_minor": 2
}
